{
 "cells": [
  {
   "cell_type": "markdown",
   "id": "7ba253dd-2f04-4caf-9fa7-e5c9f6fac6f1",
   "metadata": {},
   "source": [
    "# Biodiversity Intactness In Pheonix Arizona\n",
    "\n",
    "#### Emma Bea Mitchell"
   ]
  },
  {
   "cell_type": "code",
   "execution_count": 1,
   "id": "2947689e-a53c-414c-869d-6d1305e7d010",
   "metadata": {
    "tags": []
   },
   "outputs": [],
   "source": [
    "import pandas as pd\n",
    "import geopandas as gpd\n",
    "import numpy as np\n",
    "import rioxarray as rioxr\n",
    "import matplotlib.pyplot as plt"
   ]
  },
  {
   "cell_type": "code",
   "execution_count": null,
   "id": "79d077e0-9199-40c9-80f3-52aadf1eee29",
   "metadata": {},
   "outputs": [],
   "source": []
  }
 ],
 "metadata": {
  "kernelspec": {
   "display_name": "Anaconda 3 (EDS220)",
   "language": "python",
   "name": "eds220-env"
  },
  "language_info": {
   "codemirror_mode": {
    "name": "ipython",
    "version": 3
   },
   "file_extension": ".py",
   "mimetype": "text/x-python",
   "name": "python",
   "nbconvert_exporter": "python",
   "pygments_lexer": "ipython3",
   "version": "3.11.4"
  }
 },
 "nbformat": 4,
 "nbformat_minor": 5
}
