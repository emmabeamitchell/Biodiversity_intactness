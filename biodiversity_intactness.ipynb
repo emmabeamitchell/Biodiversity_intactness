{
 "cells": [
  {
   "cell_type": "markdown",
   "id": "7ba253dd-2f04-4caf-9fa7-e5c9f6fac6f1",
   "metadata": {},
   "source": [
    "# Biodiversity Intactness In Pheonix Arizona\n",
    "\n",
    "#### Emma Bea Mitchell"
   ]
  },
  {
   "cell_type": "code",
   "execution_count": 23,
   "id": "2947689e-a53c-414c-869d-6d1305e7d010",
   "metadata": {
    "tags": []
   },
   "outputs": [],
   "source": [
    "import pandas as pd\n",
    "import geopandas as gpd\n",
    "import numpy as np\n",
    "import rioxarray as rioxr\n",
    "import matplotlib.pyplot as plt\n",
    "import planetary_computer\n",
    "import pystac_client\n",
    "from geogif import gif\n",
    "import os\n",
    "import contextily as cx"
   ]
  },
  {
   "cell_type": "code",
   "execution_count": 2,
   "id": "79d077e0-9199-40c9-80f3-52aadf1eee29",
   "metadata": {
    "tags": []
   },
   "outputs": [],
   "source": [
    "catalog = pystac_client.Client.open(\n",
    "    \"https://planetarycomputer.microsoft.com/api/stac/v1\",\n",
    "    modifier=planetary_computer.sign_inplace,\n",
    ")\n",
    "\n",
    "path = os.path.join('data', 'cb_2023_04_cousub_500k.shp')\n",
    "\n",
    "counties = gpd.read_file(path)"
   ]
  },
  {
   "cell_type": "code",
   "execution_count": 3,
   "id": "15e50a2c-44b2-4195-bc94-e32e351cd0bd",
   "metadata": {
    "tags": []
   },
   "outputs": [
    {
     "name": "stdout",
     "output_type": "stream",
     "text": [
      "Title: Microsoft Planetary Computer STAC API\n",
      "Description: Searchable spatiotemporal metadata describing Earth science datasets hosted by the Microsoft Planetary Computer\n"
     ]
    }
   ],
   "source": [
    "# Explore catalog metadata\n",
    "print('Title:', catalog.title)\n",
    "print('Description:', catalog.description)"
   ]
  },
  {
   "cell_type": "code",
   "execution_count": 4,
   "id": "27243077-5308-4190-9c62-76ce3f096d9d",
   "metadata": {
    "tags": []
   },
   "outputs": [
    {
     "name": "stdout",
     "output_type": "stream",
     "text": [
      "Number of collections: 124\n",
      "Collections IDs (first 10):\n",
      "- daymet-annual-pr\n",
      "- daymet-daily-hi\n",
      "- 3dep-seamless\n",
      "- 3dep-lidar-dsm\n",
      "- fia\n",
      "- sentinel-1-rtc\n",
      "- gridmet\n",
      "- daymet-annual-na\n",
      "- daymet-monthly-na\n",
      "- daymet-annual-hi\n"
     ]
    }
   ],
   "source": [
    "catalog.get_collections()\n",
    "\n",
    "# Get collections and print their names\n",
    "collections = list(catalog.get_collections())  # Turn generator into list\n",
    "\n",
    "print('Number of collections:', len(collections))\n",
    "\n",
    "print(\"Collections IDs (first 10):\")\n",
    "for i in range(10):\n",
    "    print('-', collections[i].id)"
   ]
  },
  {
   "cell_type": "code",
   "execution_count": 5,
   "id": "45a2ce67-24d7-414d-897a-0aa1c772335f",
   "metadata": {
    "tags": []
   },
   "outputs": [],
   "source": [
    "bbox_of_interest = [-112.826843, 32.974108, -111.184387, 33.863574]\n",
    "search = catalog.search(collections=[\"io-biodiversity\"], bbox=bbox_of_interest)"
   ]
  },
  {
   "cell_type": "code",
   "execution_count": 6,
   "id": "28e91bb2-b82b-42c6-8c9b-05f626f501a6",
   "metadata": {},
   "outputs": [
    {
     "data": {
      "text/plain": [
       "4"
      ]
     },
     "execution_count": 6,
     "metadata": {},
     "output_type": "execute_result"
    }
   ],
   "source": [
    "# Retrieve search items\n",
    "items = search.item_collection()\n",
    "len(items)"
   ]
  },
  {
   "cell_type": "code",
   "execution_count": 7,
   "id": "57562584-e6d7-460d-aab0-01a28ab969d7",
   "metadata": {
    "tags": []
   },
   "outputs": [
    {
     "name": "stdout",
     "output_type": "stream",
     "text": [
      "<Item id=bii_2020_34.74464974521749_-115.38597824385106_cog>\n",
      "<Item id=bii_2019_34.74464974521749_-115.38597824385106_cog>\n",
      "<Item id=bii_2018_34.74464974521749_-115.38597824385106_cog>\n",
      "<Item id=bii_2017_34.74464974521749_-115.38597824385106_cog>\n"
     ]
    }
   ],
   "source": [
    "items = list(search.items())\n",
    "for item in items:\n",
    "    print(item)"
   ]
  },
  {
   "cell_type": "code",
   "execution_count": 8,
   "id": "3180fbf3-1b22-4920-a450-91f5261f9d34",
   "metadata": {
    "tags": []
   },
   "outputs": [
    {
     "data": {
      "text/plain": [
       "pystac.item.Item"
      ]
     },
     "execution_count": 8,
     "metadata": {},
     "output_type": "execute_result"
    }
   ],
   "source": [
    "# Get first item in the catalog search\n",
    "item = items[0]\n",
    "type(item)"
   ]
  },
  {
   "cell_type": "code",
   "execution_count": 9,
   "id": "0e5830c0-ad39-4355-a6c0-db227086abfc",
   "metadata": {
    "tags": []
   },
   "outputs": [
    {
     "name": "stdout",
     "output_type": "stream",
     "text": [
      "ID: bii_2020_34.74464974521749_-115.38597824385106_cog\n"
     ]
    },
    {
     "data": {
      "text/plain": [
       "{'datetime': None,\n",
       " 'proj:epsg': 4326,\n",
       " 'proj:shape': [7992, 7992],\n",
       " 'end_datetime': '2020-12-31T23:59:59Z',\n",
       " 'proj:transform': [0.0008983152841195215,\n",
       "  0.0,\n",
       "  -115.38597824385106,\n",
       "  0.0,\n",
       "  -0.0008983152841195215,\n",
       "  34.74464974521749,\n",
       "  0.0,\n",
       "  0.0,\n",
       "  1.0],\n",
       " 'start_datetime': '2020-01-01T00:00:00Z'}"
      ]
     },
     "execution_count": 9,
     "metadata": {},
     "output_type": "execute_result"
    }
   ],
   "source": [
    "# Print item ID and properties\n",
    "print('ID:' , item.id)\n",
    "item.properties"
   ]
  },
  {
   "cell_type": "code",
   "execution_count": 10,
   "id": "981b448d-7166-4082-abfa-8e78c5dd9b25",
   "metadata": {
    "tags": []
   },
   "outputs": [
    {
     "data": {
      "text/plain": [
       "{'data': <Asset href=https://pcdata01euw.blob.core.windows.net/impact/bii-v1/bii_2020/bii_2020_34.74464974521749_-115.38597824385106_cog.tif?st=2024-12-05T18%3A22%3A08Z&se=2024-12-06T19%3A07%3A08Z&sp=rl&sv=2024-05-04&sr=c&skoid=9c8ff44a-6a2c-4dfb-b298-1c9212f64d9a&sktid=72f988bf-86f1-41af-91ab-2d7cd011db47&skt=2024-12-06T14%3A28%3A54Z&ske=2024-12-13T14%3A28%3A54Z&sks=b&skv=2024-05-04&sig=q6K/9ItVlWKyG73kDk5KOP1P4MgaMlGtGHwOSxD1vN0%3D>,\n",
       " 'tilejson': <Asset href=https://planetarycomputer.microsoft.com/api/data/v1/item/tilejson.json?collection=io-biodiversity&item=bii_2020_34.74464974521749_-115.38597824385106_cog&assets=data&tile_format=png&colormap_name=io-bii&rescale=0%2C1&expression=0.97%2A%28data_b1%2A%2A3.84%29&format=png>,\n",
       " 'rendered_preview': <Asset href=https://planetarycomputer.microsoft.com/api/data/v1/item/preview.png?collection=io-biodiversity&item=bii_2020_34.74464974521749_-115.38597824385106_cog&assets=data&tile_format=png&colormap_name=io-bii&rescale=0%2C1&expression=0.97%2A%28data_b1%2A%2A3.84%29&format=png>}"
      ]
     },
     "execution_count": 10,
     "metadata": {},
     "output_type": "execute_result"
    }
   ],
   "source": [
    "item.assets"
   ]
  },
  {
   "cell_type": "code",
   "execution_count": 11,
   "id": "368ec298-b85e-42db-a8ad-4d13d7cd7511",
   "metadata": {
    "tags": []
   },
   "outputs": [
    {
     "name": "stdout",
     "output_type": "stream",
     "text": [
      "data -- Biodiversity Intactness\n",
      "tilejson -- TileJSON with default rendering\n",
      "rendered_preview -- Rendered preview\n"
     ]
    }
   ],
   "source": [
    "for key in item.assets.keys():\n",
    "    print(key, '--', item.assets[key].title)"
   ]
  },
  {
   "cell_type": "code",
   "execution_count": 12,
   "id": "dc0b1b89-b67b-4233-9f24-a6c07480968e",
   "metadata": {
    "tags": []
   },
   "outputs": [
    {
     "data": {
      "text/html": [
       "<div><svg style=\"position: absolute; width: 0; height: 0; overflow: hidden\">\n",
       "<defs>\n",
       "<symbol id=\"icon-database\" viewBox=\"0 0 32 32\">\n",
       "<path d=\"M16 0c-8.837 0-16 2.239-16 5v4c0 2.761 7.163 5 16 5s16-2.239 16-5v-4c0-2.761-7.163-5-16-5z\"></path>\n",
       "<path d=\"M16 17c-8.837 0-16-2.239-16-5v6c0 2.761 7.163 5 16 5s16-2.239 16-5v-6c0 2.761-7.163 5-16 5z\"></path>\n",
       "<path d=\"M16 26c-8.837 0-16-2.239-16-5v6c0 2.761 7.163 5 16 5s16-2.239 16-5v-6c0 2.761-7.163 5-16 5z\"></path>\n",
       "</symbol>\n",
       "<symbol id=\"icon-file-text2\" viewBox=\"0 0 32 32\">\n",
       "<path d=\"M28.681 7.159c-0.694-0.947-1.662-2.053-2.724-3.116s-2.169-2.030-3.116-2.724c-1.612-1.182-2.393-1.319-2.841-1.319h-15.5c-1.378 0-2.5 1.121-2.5 2.5v27c0 1.378 1.122 2.5 2.5 2.5h23c1.378 0 2.5-1.122 2.5-2.5v-19.5c0-0.448-0.137-1.23-1.319-2.841zM24.543 5.457c0.959 0.959 1.712 1.825 2.268 2.543h-4.811v-4.811c0.718 0.556 1.584 1.309 2.543 2.268zM28 29.5c0 0.271-0.229 0.5-0.5 0.5h-23c-0.271 0-0.5-0.229-0.5-0.5v-27c0-0.271 0.229-0.5 0.5-0.5 0 0 15.499-0 15.5 0v7c0 0.552 0.448 1 1 1h7v19.5z\"></path>\n",
       "<path d=\"M23 26h-14c-0.552 0-1-0.448-1-1s0.448-1 1-1h14c0.552 0 1 0.448 1 1s-0.448 1-1 1z\"></path>\n",
       "<path d=\"M23 22h-14c-0.552 0-1-0.448-1-1s0.448-1 1-1h14c0.552 0 1 0.448 1 1s-0.448 1-1 1z\"></path>\n",
       "<path d=\"M23 18h-14c-0.552 0-1-0.448-1-1s0.448-1 1-1h14c0.552 0 1 0.448 1 1s-0.448 1-1 1z\"></path>\n",
       "</symbol>\n",
       "</defs>\n",
       "</svg>\n",
       "<style>/* CSS stylesheet for displaying xarray objects in jupyterlab.\n",
       " *\n",
       " */\n",
       "\n",
       ":root {\n",
       "  --xr-font-color0: var(--jp-content-font-color0, rgba(0, 0, 0, 1));\n",
       "  --xr-font-color2: var(--jp-content-font-color2, rgba(0, 0, 0, 0.54));\n",
       "  --xr-font-color3: var(--jp-content-font-color3, rgba(0, 0, 0, 0.38));\n",
       "  --xr-border-color: var(--jp-border-color2, #e0e0e0);\n",
       "  --xr-disabled-color: var(--jp-layout-color3, #bdbdbd);\n",
       "  --xr-background-color: var(--jp-layout-color0, white);\n",
       "  --xr-background-color-row-even: var(--jp-layout-color1, white);\n",
       "  --xr-background-color-row-odd: var(--jp-layout-color2, #eeeeee);\n",
       "}\n",
       "\n",
       "html[theme=dark],\n",
       "html[data-theme=dark],\n",
       "body[data-theme=dark],\n",
       "body.vscode-dark {\n",
       "  --xr-font-color0: rgba(255, 255, 255, 1);\n",
       "  --xr-font-color2: rgba(255, 255, 255, 0.54);\n",
       "  --xr-font-color3: rgba(255, 255, 255, 0.38);\n",
       "  --xr-border-color: #1F1F1F;\n",
       "  --xr-disabled-color: #515151;\n",
       "  --xr-background-color: #111111;\n",
       "  --xr-background-color-row-even: #111111;\n",
       "  --xr-background-color-row-odd: #313131;\n",
       "}\n",
       "\n",
       ".xr-wrap {\n",
       "  display: block !important;\n",
       "  min-width: 300px;\n",
       "  max-width: 700px;\n",
       "}\n",
       "\n",
       ".xr-text-repr-fallback {\n",
       "  /* fallback to plain text repr when CSS is not injected (untrusted notebook) */\n",
       "  display: none;\n",
       "}\n",
       "\n",
       ".xr-header {\n",
       "  padding-top: 6px;\n",
       "  padding-bottom: 6px;\n",
       "  margin-bottom: 4px;\n",
       "  border-bottom: solid 1px var(--xr-border-color);\n",
       "}\n",
       "\n",
       ".xr-header > div,\n",
       ".xr-header > ul {\n",
       "  display: inline;\n",
       "  margin-top: 0;\n",
       "  margin-bottom: 0;\n",
       "}\n",
       "\n",
       ".xr-obj-type,\n",
       ".xr-array-name {\n",
       "  margin-left: 2px;\n",
       "  margin-right: 10px;\n",
       "}\n",
       "\n",
       ".xr-obj-type {\n",
       "  color: var(--xr-font-color2);\n",
       "}\n",
       "\n",
       ".xr-sections {\n",
       "  padding-left: 0 !important;\n",
       "  display: grid;\n",
       "  grid-template-columns: 150px auto auto 1fr 0 20px 0 20px;\n",
       "}\n",
       "\n",
       ".xr-section-item {\n",
       "  display: contents;\n",
       "}\n",
       "\n",
       ".xr-section-item input {\n",
       "  display: inline-block;\n",
       "  opacity: 0;\n",
       "}\n",
       "\n",
       ".xr-section-item input + label {\n",
       "  color: var(--xr-disabled-color);\n",
       "}\n",
       "\n",
       ".xr-section-item input:enabled + label {\n",
       "  cursor: pointer;\n",
       "  color: var(--xr-font-color2);\n",
       "}\n",
       "\n",
       ".xr-section-item input:focus + label {\n",
       "  border: 2px solid var(--xr-font-color0);\n",
       "}\n",
       "\n",
       ".xr-section-item input:enabled + label:hover {\n",
       "  color: var(--xr-font-color0);\n",
       "}\n",
       "\n",
       ".xr-section-summary {\n",
       "  grid-column: 1;\n",
       "  color: var(--xr-font-color2);\n",
       "  font-weight: 500;\n",
       "}\n",
       "\n",
       ".xr-section-summary > span {\n",
       "  display: inline-block;\n",
       "  padding-left: 0.5em;\n",
       "}\n",
       "\n",
       ".xr-section-summary-in:disabled + label {\n",
       "  color: var(--xr-font-color2);\n",
       "}\n",
       "\n",
       ".xr-section-summary-in + label:before {\n",
       "  display: inline-block;\n",
       "  content: '►';\n",
       "  font-size: 11px;\n",
       "  width: 15px;\n",
       "  text-align: center;\n",
       "}\n",
       "\n",
       ".xr-section-summary-in:disabled + label:before {\n",
       "  color: var(--xr-disabled-color);\n",
       "}\n",
       "\n",
       ".xr-section-summary-in:checked + label:before {\n",
       "  content: '▼';\n",
       "}\n",
       "\n",
       ".xr-section-summary-in:checked + label > span {\n",
       "  display: none;\n",
       "}\n",
       "\n",
       ".xr-section-summary,\n",
       ".xr-section-inline-details {\n",
       "  padding-top: 4px;\n",
       "  padding-bottom: 4px;\n",
       "}\n",
       "\n",
       ".xr-section-inline-details {\n",
       "  grid-column: 2 / -1;\n",
       "}\n",
       "\n",
       ".xr-section-details {\n",
       "  display: none;\n",
       "  grid-column: 1 / -1;\n",
       "  margin-bottom: 5px;\n",
       "}\n",
       "\n",
       ".xr-section-summary-in:checked ~ .xr-section-details {\n",
       "  display: contents;\n",
       "}\n",
       "\n",
       ".xr-array-wrap {\n",
       "  grid-column: 1 / -1;\n",
       "  display: grid;\n",
       "  grid-template-columns: 20px auto;\n",
       "}\n",
       "\n",
       ".xr-array-wrap > label {\n",
       "  grid-column: 1;\n",
       "  vertical-align: top;\n",
       "}\n",
       "\n",
       ".xr-preview {\n",
       "  color: var(--xr-font-color3);\n",
       "}\n",
       "\n",
       ".xr-array-preview,\n",
       ".xr-array-data {\n",
       "  padding: 0 5px !important;\n",
       "  grid-column: 2;\n",
       "}\n",
       "\n",
       ".xr-array-data,\n",
       ".xr-array-in:checked ~ .xr-array-preview {\n",
       "  display: none;\n",
       "}\n",
       "\n",
       ".xr-array-in:checked ~ .xr-array-data,\n",
       ".xr-array-preview {\n",
       "  display: inline-block;\n",
       "}\n",
       "\n",
       ".xr-dim-list {\n",
       "  display: inline-block !important;\n",
       "  list-style: none;\n",
       "  padding: 0 !important;\n",
       "  margin: 0;\n",
       "}\n",
       "\n",
       ".xr-dim-list li {\n",
       "  display: inline-block;\n",
       "  padding: 0;\n",
       "  margin: 0;\n",
       "}\n",
       "\n",
       ".xr-dim-list:before {\n",
       "  content: '(';\n",
       "}\n",
       "\n",
       ".xr-dim-list:after {\n",
       "  content: ')';\n",
       "}\n",
       "\n",
       ".xr-dim-list li:not(:last-child):after {\n",
       "  content: ',';\n",
       "  padding-right: 5px;\n",
       "}\n",
       "\n",
       ".xr-has-index {\n",
       "  font-weight: bold;\n",
       "}\n",
       "\n",
       ".xr-var-list,\n",
       ".xr-var-item {\n",
       "  display: contents;\n",
       "}\n",
       "\n",
       ".xr-var-item > div,\n",
       ".xr-var-item label,\n",
       ".xr-var-item > .xr-var-name span {\n",
       "  background-color: var(--xr-background-color-row-even);\n",
       "  margin-bottom: 0;\n",
       "}\n",
       "\n",
       ".xr-var-item > .xr-var-name:hover span {\n",
       "  padding-right: 5px;\n",
       "}\n",
       "\n",
       ".xr-var-list > li:nth-child(odd) > div,\n",
       ".xr-var-list > li:nth-child(odd) > label,\n",
       ".xr-var-list > li:nth-child(odd) > .xr-var-name span {\n",
       "  background-color: var(--xr-background-color-row-odd);\n",
       "}\n",
       "\n",
       ".xr-var-name {\n",
       "  grid-column: 1;\n",
       "}\n",
       "\n",
       ".xr-var-dims {\n",
       "  grid-column: 2;\n",
       "}\n",
       "\n",
       ".xr-var-dtype {\n",
       "  grid-column: 3;\n",
       "  text-align: right;\n",
       "  color: var(--xr-font-color2);\n",
       "}\n",
       "\n",
       ".xr-var-preview {\n",
       "  grid-column: 4;\n",
       "}\n",
       "\n",
       ".xr-index-preview {\n",
       "  grid-column: 2 / 5;\n",
       "  color: var(--xr-font-color2);\n",
       "}\n",
       "\n",
       ".xr-var-name,\n",
       ".xr-var-dims,\n",
       ".xr-var-dtype,\n",
       ".xr-preview,\n",
       ".xr-attrs dt {\n",
       "  white-space: nowrap;\n",
       "  overflow: hidden;\n",
       "  text-overflow: ellipsis;\n",
       "  padding-right: 10px;\n",
       "}\n",
       "\n",
       ".xr-var-name:hover,\n",
       ".xr-var-dims:hover,\n",
       ".xr-var-dtype:hover,\n",
       ".xr-attrs dt:hover {\n",
       "  overflow: visible;\n",
       "  width: auto;\n",
       "  z-index: 1;\n",
       "}\n",
       "\n",
       ".xr-var-attrs,\n",
       ".xr-var-data,\n",
       ".xr-index-data {\n",
       "  display: none;\n",
       "  background-color: var(--xr-background-color) !important;\n",
       "  padding-bottom: 5px !important;\n",
       "}\n",
       "\n",
       ".xr-var-attrs-in:checked ~ .xr-var-attrs,\n",
       ".xr-var-data-in:checked ~ .xr-var-data,\n",
       ".xr-index-data-in:checked ~ .xr-index-data {\n",
       "  display: block;\n",
       "}\n",
       "\n",
       ".xr-var-data > table {\n",
       "  float: right;\n",
       "}\n",
       "\n",
       ".xr-var-name span,\n",
       ".xr-var-data,\n",
       ".xr-index-name div,\n",
       ".xr-index-data,\n",
       ".xr-attrs {\n",
       "  padding-left: 25px !important;\n",
       "}\n",
       "\n",
       ".xr-attrs,\n",
       ".xr-var-attrs,\n",
       ".xr-var-data,\n",
       ".xr-index-data {\n",
       "  grid-column: 1 / -1;\n",
       "}\n",
       "\n",
       "dl.xr-attrs {\n",
       "  padding: 0;\n",
       "  margin: 0;\n",
       "  display: grid;\n",
       "  grid-template-columns: 125px auto;\n",
       "}\n",
       "\n",
       ".xr-attrs dt,\n",
       ".xr-attrs dd {\n",
       "  padding: 0;\n",
       "  margin: 0;\n",
       "  float: left;\n",
       "  padding-right: 10px;\n",
       "  width: auto;\n",
       "}\n",
       "\n",
       ".xr-attrs dt {\n",
       "  font-weight: normal;\n",
       "  grid-column: 1;\n",
       "}\n",
       "\n",
       ".xr-attrs dt:hover span {\n",
       "  display: inline-block;\n",
       "  background: var(--xr-background-color);\n",
       "  padding-right: 10px;\n",
       "}\n",
       "\n",
       ".xr-attrs dd {\n",
       "  grid-column: 2;\n",
       "  white-space: pre-wrap;\n",
       "  word-break: break-all;\n",
       "}\n",
       "\n",
       ".xr-icon-database,\n",
       ".xr-icon-file-text2,\n",
       ".xr-no-icon {\n",
       "  display: inline-block;\n",
       "  vertical-align: middle;\n",
       "  width: 1em;\n",
       "  height: 1.5em !important;\n",
       "  stroke-width: 0;\n",
       "  stroke: currentColor;\n",
       "  fill: currentColor;\n",
       "}\n",
       "</style><pre class='xr-text-repr-fallback'>&lt;xarray.DataArray (band: 1, y: 7992, x: 7992)&gt; Size: 255MB\n",
       "[63872064 values with dtype=float32]\n",
       "Coordinates:\n",
       "  * band         (band) int64 8B 1\n",
       "  * x            (x) float64 64kB -115.4 -115.4 -115.4 ... -108.2 -108.2 -108.2\n",
       "  * y            (y) float64 64kB 34.74 34.74 34.74 34.74 ... 27.57 27.57 27.57\n",
       "    spatial_ref  int64 8B 0\n",
       "Attributes:\n",
       "    AREA_OR_POINT:  Area\n",
       "    scale_factor:   1.0\n",
       "    add_offset:     0.0</pre><div class='xr-wrap' style='display:none'><div class='xr-header'><div class='xr-obj-type'>xarray.DataArray</div><div class='xr-array-name'></div><ul class='xr-dim-list'><li><span class='xr-has-index'>band</span>: 1</li><li><span class='xr-has-index'>y</span>: 7992</li><li><span class='xr-has-index'>x</span>: 7992</li></ul></div><ul class='xr-sections'><li class='xr-section-item'><div class='xr-array-wrap'><input id='section-63bd38d0-e22d-4b7d-8d00-82d426a96618' class='xr-array-in' type='checkbox' checked><label for='section-63bd38d0-e22d-4b7d-8d00-82d426a96618' title='Show/hide data repr'><svg class='icon xr-icon-database'><use xlink:href='#icon-database'></use></svg></label><div class='xr-array-preview xr-preview'><span>...</span></div><div class='xr-array-data'><pre>[63872064 values with dtype=float32]</pre></div></div></li><li class='xr-section-item'><input id='section-5ba7a9be-08eb-4171-86ee-f8368f784cfa' class='xr-section-summary-in' type='checkbox'  checked><label for='section-5ba7a9be-08eb-4171-86ee-f8368f784cfa' class='xr-section-summary' >Coordinates: <span>(4)</span></label><div class='xr-section-inline-details'></div><div class='xr-section-details'><ul class='xr-var-list'><li class='xr-var-item'><div class='xr-var-name'><span class='xr-has-index'>band</span></div><div class='xr-var-dims'>(band)</div><div class='xr-var-dtype'>int64</div><div class='xr-var-preview xr-preview'>1</div><input id='attrs-84a09b1e-b02a-40c6-b252-c0598306e45c' class='xr-var-attrs-in' type='checkbox' disabled><label for='attrs-84a09b1e-b02a-40c6-b252-c0598306e45c' title='Show/Hide attributes'><svg class='icon xr-icon-file-text2'><use xlink:href='#icon-file-text2'></use></svg></label><input id='data-9e3a5f73-20f7-4e2e-b649-2f407be8256e' class='xr-var-data-in' type='checkbox'><label for='data-9e3a5f73-20f7-4e2e-b649-2f407be8256e' title='Show/Hide data repr'><svg class='icon xr-icon-database'><use xlink:href='#icon-database'></use></svg></label><div class='xr-var-attrs'><dl class='xr-attrs'></dl></div><div class='xr-var-data'><pre>array([1])</pre></div></li><li class='xr-var-item'><div class='xr-var-name'><span class='xr-has-index'>x</span></div><div class='xr-var-dims'>(x)</div><div class='xr-var-dtype'>float64</div><div class='xr-var-preview xr-preview'>-115.4 -115.4 ... -108.2 -108.2</div><input id='attrs-770f5167-999b-4899-8ea8-19f3d4b1a457' class='xr-var-attrs-in' type='checkbox' disabled><label for='attrs-770f5167-999b-4899-8ea8-19f3d4b1a457' title='Show/Hide attributes'><svg class='icon xr-icon-file-text2'><use xlink:href='#icon-file-text2'></use></svg></label><input id='data-195b804a-1c82-401a-9cc8-2d06e7ab3a72' class='xr-var-data-in' type='checkbox'><label for='data-195b804a-1c82-401a-9cc8-2d06e7ab3a72' title='Show/Hide data repr'><svg class='icon xr-icon-database'><use xlink:href='#icon-database'></use></svg></label><div class='xr-var-attrs'><dl class='xr-attrs'></dl></div><div class='xr-var-data'><pre>array([-115.385529, -115.384631, -115.383732, ..., -108.208888, -108.20799 ,\n",
       "       -108.207092])</pre></div></li><li class='xr-var-item'><div class='xr-var-name'><span class='xr-has-index'>y</span></div><div class='xr-var-dims'>(y)</div><div class='xr-var-dtype'>float64</div><div class='xr-var-preview xr-preview'>34.74 34.74 34.74 ... 27.57 27.57</div><input id='attrs-0b092fdc-b5b3-466b-a126-50adeebb2864' class='xr-var-attrs-in' type='checkbox' disabled><label for='attrs-0b092fdc-b5b3-466b-a126-50adeebb2864' title='Show/Hide attributes'><svg class='icon xr-icon-file-text2'><use xlink:href='#icon-file-text2'></use></svg></label><input id='data-0f3d93d0-e322-4fd4-bdd1-5498cf7ee90a' class='xr-var-data-in' type='checkbox'><label for='data-0f3d93d0-e322-4fd4-bdd1-5498cf7ee90a' title='Show/Hide data repr'><svg class='icon xr-icon-database'><use xlink:href='#icon-database'></use></svg></label><div class='xr-var-attrs'><dl class='xr-attrs'></dl></div><div class='xr-var-data'><pre>array([34.744201, 34.743302, 34.742404, ..., 27.56756 , 27.566661, 27.565763])</pre></div></li><li class='xr-var-item'><div class='xr-var-name'><span>spatial_ref</span></div><div class='xr-var-dims'>()</div><div class='xr-var-dtype'>int64</div><div class='xr-var-preview xr-preview'>0</div><input id='attrs-dbfe60ce-77dc-4f58-a570-5bb9642572c6' class='xr-var-attrs-in' type='checkbox' ><label for='attrs-dbfe60ce-77dc-4f58-a570-5bb9642572c6' title='Show/Hide attributes'><svg class='icon xr-icon-file-text2'><use xlink:href='#icon-file-text2'></use></svg></label><input id='data-b4b2b5ff-f7de-455e-9155-81ae0b69f0e1' class='xr-var-data-in' type='checkbox'><label for='data-b4b2b5ff-f7de-455e-9155-81ae0b69f0e1' title='Show/Hide data repr'><svg class='icon xr-icon-database'><use xlink:href='#icon-database'></use></svg></label><div class='xr-var-attrs'><dl class='xr-attrs'><dt><span>crs_wkt :</span></dt><dd>GEOGCS[&quot;WGS 84&quot;,DATUM[&quot;WGS_1984&quot;,SPHEROID[&quot;WGS 84&quot;,6378137,298.257223563,AUTHORITY[&quot;EPSG&quot;,&quot;7030&quot;]],AUTHORITY[&quot;EPSG&quot;,&quot;6326&quot;]],PRIMEM[&quot;Greenwich&quot;,0,AUTHORITY[&quot;EPSG&quot;,&quot;8901&quot;]],UNIT[&quot;degree&quot;,0.0174532925199433,AUTHORITY[&quot;EPSG&quot;,&quot;9122&quot;]],AXIS[&quot;Latitude&quot;,NORTH],AXIS[&quot;Longitude&quot;,EAST],AUTHORITY[&quot;EPSG&quot;,&quot;4326&quot;]]</dd><dt><span>semi_major_axis :</span></dt><dd>6378137.0</dd><dt><span>semi_minor_axis :</span></dt><dd>6356752.314245179</dd><dt><span>inverse_flattening :</span></dt><dd>298.257223563</dd><dt><span>reference_ellipsoid_name :</span></dt><dd>WGS 84</dd><dt><span>longitude_of_prime_meridian :</span></dt><dd>0.0</dd><dt><span>prime_meridian_name :</span></dt><dd>Greenwich</dd><dt><span>geographic_crs_name :</span></dt><dd>WGS 84</dd><dt><span>horizontal_datum_name :</span></dt><dd>World Geodetic System 1984</dd><dt><span>grid_mapping_name :</span></dt><dd>latitude_longitude</dd><dt><span>spatial_ref :</span></dt><dd>GEOGCS[&quot;WGS 84&quot;,DATUM[&quot;WGS_1984&quot;,SPHEROID[&quot;WGS 84&quot;,6378137,298.257223563,AUTHORITY[&quot;EPSG&quot;,&quot;7030&quot;]],AUTHORITY[&quot;EPSG&quot;,&quot;6326&quot;]],PRIMEM[&quot;Greenwich&quot;,0,AUTHORITY[&quot;EPSG&quot;,&quot;8901&quot;]],UNIT[&quot;degree&quot;,0.0174532925199433,AUTHORITY[&quot;EPSG&quot;,&quot;9122&quot;]],AXIS[&quot;Latitude&quot;,NORTH],AXIS[&quot;Longitude&quot;,EAST],AUTHORITY[&quot;EPSG&quot;,&quot;4326&quot;]]</dd><dt><span>GeoTransform :</span></dt><dd>-115.38597824385106 0.0008983152841195215 0.0 34.74464974521749 0.0 -0.0008983152841195215</dd></dl></div><div class='xr-var-data'><pre>array(0)</pre></div></li></ul></div></li><li class='xr-section-item'><input id='section-307b8c01-845d-42af-b5c8-007dee933b4d' class='xr-section-summary-in' type='checkbox'  ><label for='section-307b8c01-845d-42af-b5c8-007dee933b4d' class='xr-section-summary' >Indexes: <span>(3)</span></label><div class='xr-section-inline-details'></div><div class='xr-section-details'><ul class='xr-var-list'><li class='xr-var-item'><div class='xr-index-name'><div>band</div></div><div class='xr-index-preview'>PandasIndex</div><div></div><input id='index-029f30c1-92a1-4ae4-8cc7-0f8d797a48f3' class='xr-index-data-in' type='checkbox'/><label for='index-029f30c1-92a1-4ae4-8cc7-0f8d797a48f3' title='Show/Hide index repr'><svg class='icon xr-icon-database'><use xlink:href='#icon-database'></use></svg></label><div class='xr-index-data'><pre>PandasIndex(Index([1], dtype=&#x27;int64&#x27;, name=&#x27;band&#x27;))</pre></div></li><li class='xr-var-item'><div class='xr-index-name'><div>x</div></div><div class='xr-index-preview'>PandasIndex</div><div></div><input id='index-c6dfc6c5-829d-455d-bfcc-e7a0743a5388' class='xr-index-data-in' type='checkbox'/><label for='index-c6dfc6c5-829d-455d-bfcc-e7a0743a5388' title='Show/Hide index repr'><svg class='icon xr-icon-database'><use xlink:href='#icon-database'></use></svg></label><div class='xr-index-data'><pre>PandasIndex(Index([-115.38552908620899, -115.38463077092487, -115.38373245564075,\n",
       "       -115.38283414035664, -115.38193582507252,  -115.3810375097884,\n",
       "       -115.38013919450427, -115.37924087922015, -115.37834256393603,\n",
       "       -115.37744424865191,\n",
       "       ...\n",
       "       -108.21517648836696, -108.21427817308285, -108.21337985779873,\n",
       "       -108.21248154251461, -108.21158322723049, -108.21068491194637,\n",
       "       -108.20978659666225, -108.20888828137814, -108.20798996609402,\n",
       "        -108.2070916508099],\n",
       "      dtype=&#x27;float64&#x27;, name=&#x27;x&#x27;, length=7992))</pre></div></li><li class='xr-var-item'><div class='xr-index-name'><div>y</div></div><div class='xr-index-preview'>PandasIndex</div><div></div><input id='index-baec49da-cc92-4b8e-9404-726c901c1d29' class='xr-index-data-in' type='checkbox'/><label for='index-baec49da-cc92-4b8e-9404-726c901c1d29' title='Show/Hide index repr'><svg class='icon xr-icon-database'><use xlink:href='#icon-database'></use></svg></label><div class='xr-index-data'><pre>PandasIndex(Index([ 34.74420058757543,  34.74330227229131,  34.74240395700719,\n",
       "       34.741505641723066,  34.74060732643895,  34.73970901115483,\n",
       "        34.73881069587071,  34.73791238058659, 34.737014065302475,\n",
       "        34.73611575001835,\n",
       "       ...\n",
       "        27.57384798973341, 27.572949674449287,  27.57205135916517,\n",
       "       27.571153043881047,  27.57025472859693,  27.56935641331281,\n",
       "        27.56845809802869,  27.56755978274457,  27.56666146746045,\n",
       "        27.56576315217633],\n",
       "      dtype=&#x27;float64&#x27;, name=&#x27;y&#x27;, length=7992))</pre></div></li></ul></div></li><li class='xr-section-item'><input id='section-d8d699db-a437-4947-941d-4c0722bc0e74' class='xr-section-summary-in' type='checkbox'  checked><label for='section-d8d699db-a437-4947-941d-4c0722bc0e74' class='xr-section-summary' >Attributes: <span>(3)</span></label><div class='xr-section-inline-details'></div><div class='xr-section-details'><dl class='xr-attrs'><dt><span>AREA_OR_POINT :</span></dt><dd>Area</dd><dt><span>scale_factor :</span></dt><dd>1.0</dd><dt><span>add_offset :</span></dt><dd>0.0</dd></dl></div></li></ul></div></div>"
      ],
      "text/plain": [
       "<xarray.DataArray (band: 1, y: 7992, x: 7992)> Size: 255MB\n",
       "[63872064 values with dtype=float32]\n",
       "Coordinates:\n",
       "  * band         (band) int64 8B 1\n",
       "  * x            (x) float64 64kB -115.4 -115.4 -115.4 ... -108.2 -108.2 -108.2\n",
       "  * y            (y) float64 64kB 34.74 34.74 34.74 34.74 ... 27.57 27.57 27.57\n",
       "    spatial_ref  int64 8B 0\n",
       "Attributes:\n",
       "    AREA_OR_POINT:  Area\n",
       "    scale_factor:   1.0\n",
       "    add_offset:     0.0"
      ]
     },
     "execution_count": 12,
     "metadata": {},
     "output_type": "execute_result"
    }
   ],
   "source": [
    "bio = rioxr.open_rasterio(item.assets['data'].href)\n",
    "bio"
   ]
  },
  {
   "cell_type": "code",
   "execution_count": 13,
   "id": "d2f405d1-0e4e-4b5b-8231-d805ec9772e6",
   "metadata": {
    "tags": []
   },
   "outputs": [
    {
     "name": "stdout",
     "output_type": "stream",
     "text": [
      "('band', 'y', 'x') Coordinates:\n",
      "  * band         (band) int64 8B 1\n",
      "  * x            (x) float64 64kB -115.4 -115.4 -115.4 ... -108.2 -108.2 -108.2\n",
      "  * y            (y) float64 64kB 34.74 34.74 34.74 34.74 ... 27.57 27.57 27.57\n",
      "    spatial_ref  int64 8B 0 \n",
      "\n",
      "('y', 'x') Coordinates:\n",
      "    band         int64 8B 1\n",
      "  * x            (x) float64 64kB -115.4 -115.4 -115.4 ... -108.2 -108.2 -108.2\n",
      "  * y            (y) float64 64kB 34.74 34.74 34.74 34.74 ... 27.57 27.57 27.57\n",
      "    spatial_ref  int64 8B 0 \n",
      "\n",
      "('y', 'x') Coordinates:\n",
      "  * x            (x) float64 64kB -115.4 -115.4 -115.4 ... -108.2 -108.2 -108.2\n",
      "  * y            (y) float64 64kB 34.74 34.74 34.74 34.74 ... 27.57 27.57 27.57\n",
      "    spatial_ref  int64 8B 0\n"
     ]
    }
   ],
   "source": [
    "# Original dimensions and coordinates\n",
    "print(bio.dims, bio.coords,'\\n')\n",
    "\n",
    "# Remove length 1 dimension (band)\n",
    "bio = bio.squeeze()\n",
    "print(bio.dims, bio.coords,'\\n')\n",
    "\n",
    "# Remove coordinates associated to band\n",
    "bio = bio.drop_vars('band')\n",
    "print(bio.dims, bio.coords)"
   ]
  },
  {
   "cell_type": "code",
   "execution_count": 14,
   "id": "3c09283d-72e7-4067-9d46-2005b6950c31",
   "metadata": {
    "tags": []
   },
   "outputs": [
    {
     "data": {
      "text/plain": [
       "<Axes: >"
      ]
     },
     "execution_count": 14,
     "metadata": {},
     "output_type": "execute_result"
    },
    {
     "data": {
      "image/png": "[encoded data removed]",
      "text/plain": [
       "<Figure size 640x480 with 1 Axes>"
      ]
     },
     "metadata": {},
     "output_type": "display_data"
    }
   ],
   "source": [
    "counties.plot()"
   ]
  },
  {
   "cell_type": "code",
   "execution_count": 15,
   "id": "984e8c46-779e-4aed-a6d1-de3a2550cef8",
   "metadata": {
    "tags": []
   },
   "outputs": [
    {
     "data": {
      "text/html": [
       "<div>\n",
       "<style scoped>\n",
       "    .dataframe tbody tr th:only-of-type {\n",
       "        vertical-align: middle;\n",
       "    }\n",
       "\n",
       "    .dataframe tbody tr th {\n",
       "        vertical-align: top;\n",
       "    }\n",
       "\n",
       "    .dataframe thead th {\n",
       "        text-align: right;\n",
       "    }\n",
       "</style>\n",
       "<table border=\"1\" class=\"dataframe\">\n",
       "  <thead>\n",
       "    <tr style=\"text-align: right;\">\n",
       "      <th></th>\n",
       "      <th>STATEFP</th>\n",
       "      <th>COUNTYFP</th>\n",
       "      <th>COUSUBFP</th>\n",
       "      <th>COUSUBNS</th>\n",
       "      <th>GEOIDFQ</th>\n",
       "      <th>GEOID</th>\n",
       "      <th>NAME</th>\n",
       "      <th>NAMELSAD</th>\n",
       "      <th>STUSPS</th>\n",
       "      <th>NAMELSADCO</th>\n",
       "      <th>STATE_NAME</th>\n",
       "      <th>LSAD</th>\n",
       "      <th>ALAND</th>\n",
       "      <th>AWATER</th>\n",
       "      <th>geometry</th>\n",
       "    </tr>\n",
       "  </thead>\n",
       "  <tbody>\n",
       "    <tr>\n",
       "      <th>0</th>\n",
       "      <td>04</td>\n",
       "      <td>023</td>\n",
       "      <td>92295</td>\n",
       "      <td>01934961</td>\n",
       "      <td>0600000US0402392295</td>\n",
       "      <td>0402392295</td>\n",
       "      <td>Nogales</td>\n",
       "      <td>Nogales CCD</td>\n",
       "      <td>AZ</td>\n",
       "      <td>Santa Cruz County</td>\n",
       "      <td>Arizona</td>\n",
       "      <td>22</td>\n",
       "      <td>1762339489</td>\n",
       "      <td>2382710</td>\n",
       "      <td>POLYGON ((-111.36692 31.52136, -111.33572 31.5...</td>\n",
       "    </tr>\n",
       "    <tr>\n",
       "      <th>1</th>\n",
       "      <td>04</td>\n",
       "      <td>017</td>\n",
       "      <td>91632</td>\n",
       "      <td>01934949</td>\n",
       "      <td>0600000US0401791632</td>\n",
       "      <td>0401791632</td>\n",
       "      <td>Hopi</td>\n",
       "      <td>Hopi CCD</td>\n",
       "      <td>AZ</td>\n",
       "      <td>Navajo County</td>\n",
       "      <td>Arizona</td>\n",
       "      <td>22</td>\n",
       "      <td>4429144718</td>\n",
       "      <td>1975478</td>\n",
       "      <td>POLYGON ((-110.75070 36.29843, -110.75070 36.2...</td>\n",
       "    </tr>\n",
       "    <tr>\n",
       "      <th>2</th>\n",
       "      <td>04</td>\n",
       "      <td>003</td>\n",
       "      <td>90255</td>\n",
       "      <td>01934922</td>\n",
       "      <td>0600000US0400390255</td>\n",
       "      <td>0400390255</td>\n",
       "      <td>Benson</td>\n",
       "      <td>Benson CCD</td>\n",
       "      <td>AZ</td>\n",
       "      <td>Cochise County</td>\n",
       "      <td>Arizona</td>\n",
       "      <td>22</td>\n",
       "      <td>2386116644</td>\n",
       "      <td>1180899</td>\n",
       "      <td>POLYGON ((-110.45229 31.81810, -110.45111 31.8...</td>\n",
       "    </tr>\n",
       "    <tr>\n",
       "      <th>3</th>\n",
       "      <td>04</td>\n",
       "      <td>009</td>\n",
       "      <td>93111</td>\n",
       "      <td>01934978</td>\n",
       "      <td>0600000US0400993111</td>\n",
       "      <td>0400993111</td>\n",
       "      <td>San Carlos</td>\n",
       "      <td>San Carlos CCD</td>\n",
       "      <td>AZ</td>\n",
       "      <td>Graham County</td>\n",
       "      <td>Arizona</td>\n",
       "      <td>22</td>\n",
       "      <td>4363260475</td>\n",
       "      <td>30419755</td>\n",
       "      <td>POLYGON ((-110.45719 33.29527, -110.45299 33.2...</td>\n",
       "    </tr>\n",
       "    <tr>\n",
       "      <th>4</th>\n",
       "      <td>04</td>\n",
       "      <td>027</td>\n",
       "      <td>93978</td>\n",
       "      <td>01934995</td>\n",
       "      <td>0600000US0402793978</td>\n",
       "      <td>0402793978</td>\n",
       "      <td>Yuma</td>\n",
       "      <td>Yuma CCD</td>\n",
       "      <td>AZ</td>\n",
       "      <td>Yuma County</td>\n",
       "      <td>Arizona</td>\n",
       "      <td>22</td>\n",
       "      <td>637464990</td>\n",
       "      <td>12530444</td>\n",
       "      <td>POLYGON ((-114.81418 32.56479, -114.81300 32.5...</td>\n",
       "    </tr>\n",
       "  </tbody>\n",
       "</table>\n",
       "</div>"
      ],
      "text/plain": [
       "  STATEFP COUNTYFP COUSUBFP  COUSUBNS              GEOIDFQ       GEOID  \\\n",
       "0      04      023    92295  01934961  0600000US0402392295  0402392295   \n",
       "1      04      017    91632  01934949  0600000US0401791632  0401791632   \n",
       "2      04      003    90255  01934922  0600000US0400390255  0400390255   \n",
       "3      04      009    93111  01934978  0600000US0400993111  0400993111   \n",
       "4      04      027    93978  01934995  0600000US0402793978  0402793978   \n",
       "\n",
       "         NAME        NAMELSAD STUSPS         NAMELSADCO STATE_NAME LSAD  \\\n",
       "0     Nogales     Nogales CCD     AZ  Santa Cruz County    Arizona   22   \n",
       "1        Hopi        Hopi CCD     AZ      Navajo County    Arizona   22   \n",
       "2      Benson      Benson CCD     AZ     Cochise County    Arizona   22   \n",
       "3  San Carlos  San Carlos CCD     AZ      Graham County    Arizona   22   \n",
       "4        Yuma        Yuma CCD     AZ        Yuma County    Arizona   22   \n",
       "\n",
       "        ALAND    AWATER                                           geometry  \n",
       "0  1762339489   2382710  POLYGON ((-111.36692 31.52136, -111.33572 31.5...  \n",
       "1  4429144718   1975478  POLYGON ((-110.75070 36.29843, -110.75070 36.2...  \n",
       "2  2386116644   1180899  POLYGON ((-110.45229 31.81810, -110.45111 31.8...  \n",
       "3  4363260475  30419755  POLYGON ((-110.45719 33.29527, -110.45299 33.2...  \n",
       "4   637464990  12530444  POLYGON ((-114.81418 32.56479, -114.81300 32.5...  "
      ]
     },
     "execution_count": 15,
     "metadata": {},
     "output_type": "execute_result"
    }
   ],
   "source": [
    "counties.head()"
   ]
  },
  {
   "cell_type": "code",
   "execution_count": 18,
   "id": "6faeaba4-448d-48b1-963f-3168044ff4e3",
   "metadata": {
    "tags": []
   },
   "outputs": [
    {
     "name": "stdout",
     "output_type": "stream",
     "text": [
      "<class 'geopandas.geodataframe.GeoDataFrame'>\n",
      "<class 'geopandas.geoseries.GeoSeries'>\n"
     ]
    }
   ],
   "source": [
    "# Check the data type of the pigs dataframe \n",
    "print(type(counties))\n",
    "\n",
    "# Check the data type of the geometry column\n",
    "print(type(counties.geometry))\n"
   ]
  },
  {
   "cell_type": "code",
   "execution_count": 19,
   "id": "afc2b204-7e39-4a6e-9274-ed1db184dd73",
   "metadata": {
    "tags": []
   },
   "outputs": [
    {
     "data": {
      "text/plain": [
       "STATEFP         object\n",
       "COUNTYFP        object\n",
       "COUSUBFP        object\n",
       "COUSUBNS        object\n",
       "GEOIDFQ         object\n",
       "GEOID           object\n",
       "NAME            object\n",
       "NAMELSAD        object\n",
       "STUSPS          object\n",
       "NAMELSADCO      object\n",
       "STATE_NAME      object\n",
       "LSAD            object\n",
       "ALAND            int64\n",
       "AWATER           int64\n",
       "geometry      geometry\n",
       "dtype: object"
      ]
     },
     "execution_count": 19,
     "metadata": {},
     "output_type": "execute_result"
    }
   ],
   "source": [
    "counties.dtypes"
   ]
  },
  {
   "cell_type": "code",
   "execution_count": 20,
   "id": "7c4f5f05-70e9-4899-b636-5e0028c67ffb",
   "metadata": {
    "tags": []
   },
   "outputs": [
    {
     "data": {
      "text/plain": [
       "0     Polygon\n",
       "1     Polygon\n",
       "2     Polygon\n",
       "3     Polygon\n",
       "4     Polygon\n",
       "       ...   \n",
       "75    Polygon\n",
       "76    Polygon\n",
       "77    Polygon\n",
       "78    Polygon\n",
       "79    Polygon\n",
       "Length: 80, dtype: object"
      ]
     },
     "execution_count": 20,
     "metadata": {},
     "output_type": "execute_result"
    }
   ],
   "source": [
    "counties.geom_type"
   ]
  },
  {
   "cell_type": "code",
   "execution_count": 21,
   "id": "6f1233fb-7457-4b1b-a7f2-b19903abf40d",
   "metadata": {
    "tags": []
   },
   "outputs": [
    {
     "data": {
      "text/plain": [
       "<Geographic 2D CRS: EPSG:4269>\n",
       "Name: NAD83\n",
       "Axis Info [ellipsoidal]:\n",
       "- Lat[north]: Geodetic latitude (degree)\n",
       "- Lon[east]: Geodetic longitude (degree)\n",
       "Area of Use:\n",
       "- name: North America - onshore and offshore: Canada - Alberta; British Columbia; Manitoba; New Brunswick; Newfoundland and Labrador; Northwest Territories; Nova Scotia; Nunavut; Ontario; Prince Edward Island; Quebec; Saskatchewan; Yukon. Puerto Rico. United States (USA) - Alabama; Alaska; Arizona; Arkansas; California; Colorado; Connecticut; Delaware; Florida; Georgia; Hawaii; Idaho; Illinois; Indiana; Iowa; Kansas; Kentucky; Louisiana; Maine; Maryland; Massachusetts; Michigan; Minnesota; Mississippi; Missouri; Montana; Nebraska; Nevada; New Hampshire; New Jersey; New Mexico; New York; North Carolina; North Dakota; Ohio; Oklahoma; Oregon; Pennsylvania; Rhode Island; South Carolina; South Dakota; Tennessee; Texas; Utah; Vermont; Virginia; Washington; West Virginia; Wisconsin; Wyoming. US Virgin Islands. British Virgin Islands.\n",
       "- bounds: (167.65, 14.92, -40.73, 86.45)\n",
       "Datum: North American Datum 1983\n",
       "- Ellipsoid: GRS 1980\n",
       "- Prime Meridian: Greenwich"
      ]
     },
     "execution_count": 21,
     "metadata": {},
     "output_type": "execute_result"
    }
   ],
   "source": [
    "counties.crs"
   ]
  },
  {
   "cell_type": "code",
   "execution_count": 22,
   "id": "e7cad169-475a-47f3-a597-d775b6d79793",
   "metadata": {
    "tags": []
   },
   "outputs": [
    {
     "data": {
      "text/plain": [
       "array([-114.81651 ,   31.332177, -109.045223,   37.00426 ])"
      ]
     },
     "execution_count": 22,
     "metadata": {},
     "output_type": "execute_result"
    }
   ],
   "source": [
    "counties.total_bounds"
   ]
  },
  {
   "cell_type": "code",
   "execution_count": null,
   "id": "d7663a6b-4a44-4e7c-801f-78ba46803e5e",
   "metadata": {},
   "outputs": [],
   "source": []
  }
 ],
 "metadata": {
  "kernelspec": {
   "display_name": "Anaconda 3 (EDS220)",
   "language": "python",
   "name": "eds220-env"
  },
  "language_info": {
   "codemirror_mode": {
    "name": "ipython",
    "version": 3
   },
   "file_extension": ".py",
   "mimetype": "text/x-python",
   "name": "python",
   "nbconvert_exporter": "python",
   "pygments_lexer": "ipython3",
   "version": "3.11.4"
  }
 },
 "nbformat": 4,
 "nbformat_minor": 5
}
